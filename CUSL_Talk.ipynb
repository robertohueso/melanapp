{
 "cells": [
  {
   "cell_type": "markdown",
   "metadata": {
    "slideshow": {
     "slide_type": "slide"
    }
   },
   "source": [
    "# Melanapp\n",
    "A little machine learning experiment"
   ]
  },
  {
   "cell_type": "code",
   "execution_count": 1,
   "metadata": {
    "collapsed": true,
    "slideshow": {
     "slide_type": "-"
    }
   },
   "outputs": [],
   "source": [
    "import melanapp.classifier as melanapp"
   ]
  },
  {
   "cell_type": "markdown",
   "metadata": {
    "slideshow": {
     "slide_type": "-"
    }
   },
   "source": [
    "<p><img src=\"images/github.png\",width=60,height=60> **https://github.com/robertohueso**</p>"
   ]
  },
  {
   "cell_type": "markdown",
   "metadata": {
    "slideshow": {
     "slide_type": "slide"
    }
   },
   "source": [
    "## ¿Qué es?\n",
    "*Melanapp = Melanoma + App* (?)\n",
    "\n",
    "<img src=\"images/foto_1.jpg\",width=400,height=400>\n",
    "¿Debería hacer una visita a la consulta?"
   ]
  },
  {
   "cell_type": "markdown",
   "metadata": {
    "slideshow": {
     "slide_type": "slide"
    }
   },
   "source": [
    "## Motivación\n",
    "* Acceso a servicios médicos cualificados.\n",
    "* Elevados precios de consultas.\n",
    "* Alternativas son software privativo.\n",
    "* ¡Las redes neuronales molan!"
   ]
  },
  {
   "cell_type": "markdown",
   "metadata": {
    "slideshow": {
     "slide_type": "slide"
    }
   },
   "source": [
    "## Dataset\n",
    "Thanks [ISIC-Archive](https://isic-archive.com/)\n",
    "* 2.000 Imágenes de lesiones cutaneas clasificadas por especialistas.\n",
    "* Labels\n",
    "    * Benigna\n",
    "    * Maligna\n",
    "* Licencias CC-0\n"
   ]
  },
  {
   "cell_type": "markdown",
   "metadata": {
    "slideshow": {
     "slide_type": "subslide"
    }
   },
   "source": [
    "![](images/isic_mosaic.png)"
   ]
  },
  {
   "cell_type": "markdown",
   "metadata": {
    "slideshow": {
     "slide_type": "slide"
    }
   },
   "source": [
    "## InceptionV3\n",
    "* Preentrenada\n",
    "* [ImageNet](http://www.image-net.org/)\n",
    "* Entrenamos solo la última capa\n",
    "* Rápido (~20 min)"
   ]
  },
  {
   "cell_type": "markdown",
   "metadata": {
    "slideshow": {
     "slide_type": "subslide"
    }
   },
   "source": [
    "![InceptionV3](images/inception_v3.png)"
   ]
  },
  {
   "cell_type": "markdown",
   "metadata": {
    "slideshow": {
     "slide_type": "slide"
    }
   },
   "source": [
    "## Talk is cheap. Show me the code.\n",
    "<img src=\"images/foto_1.jpg\",width=300,height=300>"
   ]
  },
  {
   "cell_type": "code",
   "execution_count": 2,
   "metadata": {
    "slideshow": {
     "slide_type": "-"
    }
   },
   "outputs": [
    {
     "data": {
      "text/plain": [
       "{'benign': 0.94208604, 'malignant': 0.057913952}"
      ]
     },
     "execution_count": 2,
     "metadata": {},
     "output_type": "execute_result"
    }
   ],
   "source": [
    "classifier = melanapp.Classifier(\"melanapp/tf_model/output_graph.pb\", \n",
    "                                 \"melanapp/tf_model/output_labels.txt\")\n",
    "classifier.classifyImage(\"images/foto_1.jpg\")"
   ]
  },
  {
   "cell_type": "markdown",
   "metadata": {
    "slideshow": {
     "slide_type": "subslide"
    }
   },
   "source": [
    "<img src=\"images/foto_2.jpg\",width=400,height=400>"
   ]
  },
  {
   "cell_type": "code",
   "execution_count": 3,
   "metadata": {
    "slideshow": {
     "slide_type": "-"
    }
   },
   "outputs": [
    {
     "data": {
      "text/plain": [
       "{'benign': 0.32205558, 'malignant': 0.67794442}"
      ]
     },
     "execution_count": 3,
     "metadata": {},
     "output_type": "execute_result"
    }
   ],
   "source": [
    "classifier.classifyImage(\"images/foto_2.jpg\")"
   ]
  },
  {
   "cell_type": "markdown",
   "metadata": {
    "slideshow": {
     "slide_type": "slide"
    }
   },
   "source": [
    "## Precisión\n",
    "* Dataset de pruebas: 200 imágenes\n",
    "* ~75% Clasificaciones correctas\n",
    "<img src=\"images/accuracy.png\",width=300,height=300>"
   ]
  },
  {
   "cell_type": "markdown",
   "metadata": {
    "slideshow": {
     "slide_type": "slide"
    }
   },
   "source": [
    "## Gracias!\n",
    "\n",
    "<p><img src=\"images/github.png\",width=60,height=60> **https://github.com/robertohueso**</p>\n",
    "Roberto Hueso"
   ]
  }
 ],
 "metadata": {
  "celltoolbar": "Slideshow",
  "kernelspec": {
   "display_name": "Python 3",
   "language": "python",
   "name": "python3"
  },
  "language_info": {
   "codemirror_mode": {
    "name": "ipython",
    "version": 3
   },
   "file_extension": ".py",
   "mimetype": "text/x-python",
   "name": "python",
   "nbconvert_exporter": "python",
   "pygments_lexer": "ipython3",
   "version": "3.6.1"
  }
 },
 "nbformat": 4,
 "nbformat_minor": 2
}
